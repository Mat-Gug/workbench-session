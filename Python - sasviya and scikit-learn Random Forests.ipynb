{
 "cells": [
  {
   "cell_type": "markdown",
   "id": "81725349-5f0a-4da2-a5f8-9fef7d1ca4d8",
   "metadata": {},
   "source": [
    "# Python - `scikit-learn` and `sasviya` Random Forests"
   ]
  },
  {
   "cell_type": "markdown",
   "id": "882e0a06-de52-44b2-b043-81ea34aa364b",
   "metadata": {},
   "source": [
    "## 1. Importing Packages"
   ]
  },
  {
   "cell_type": "code",
   "execution_count": 1,
   "id": "fedbfd8e-85ac-4942-a170-577cf4a7e5a7",
   "metadata": {},
   "outputs": [],
   "source": [
    "import os\n",
    "import json\n",
    "import pickle\n",
    "import requests\n",
    "import warnings\n",
    "\n",
    "import pandas as pd\n",
    "from sklearn.compose import ColumnTransformer\n",
    "from sklearn.ensemble import RandomForestClassifier\n",
    "from sklearn.impute import SimpleImputer\n",
    "from sklearn.pipeline import Pipeline\n",
    "from sklearn.preprocessing import OrdinalEncoder, OneHotEncoder\n",
    "\n",
    "import sasviya\n",
    "from sasviya.ml.tree import ForestClassifier\n",
    "\n",
    "from sasctl import Session, pzmm\n",
    "from sasctl.services import model_repository as mr"
   ]
  },
  {
   "cell_type": "markdown",
   "id": "b555bed6",
   "metadata": {},
   "source": [
    "## 2. Model training"
   ]
  },
  {
   "cell_type": "code",
   "execution_count": 4,
   "id": "8c28285f-2931-46d1-bfb5-e7215f464ebb",
   "metadata": {},
   "outputs": [
    {
     "name": "stdout",
     "output_type": "stream",
     "text": [
      "Number of observations: 7043\n",
      "Number of variables: 21\n"
     ]
    },
    {
     "data": {
      "text/html": [
       "<div>\n",
       "<style scoped>\n",
       "    .dataframe tbody tr th:only-of-type {\n",
       "        vertical-align: middle;\n",
       "    }\n",
       "\n",
       "    .dataframe tbody tr th {\n",
       "        vertical-align: top;\n",
       "    }\n",
       "\n",
       "    .dataframe thead th {\n",
       "        text-align: right;\n",
       "    }\n",
       "</style>\n",
       "<table border=\"1\" class=\"dataframe\">\n",
       "  <thead>\n",
       "    <tr style=\"text-align: right;\">\n",
       "      <th></th>\n",
       "      <th>CertificateOfOrigin</th>\n",
       "      <th>EUCitizen</th>\n",
       "      <th>Perishable</th>\n",
       "      <th>Fragile</th>\n",
       "      <th>Volume</th>\n",
       "      <th>PreDeclared</th>\n",
       "      <th>MultiplePackage</th>\n",
       "      <th>Category</th>\n",
       "      <th>OnlineDeclaration</th>\n",
       "      <th>ExporterValidation</th>\n",
       "      <th>...</th>\n",
       "      <th>LithiumBatteries</th>\n",
       "      <th>ExpressDelivery</th>\n",
       "      <th>EntryPoint</th>\n",
       "      <th>Origin</th>\n",
       "      <th>PaperlessBilling</th>\n",
       "      <th>PaymentMethod</th>\n",
       "      <th>Weight</th>\n",
       "      <th>Price</th>\n",
       "      <th>Inspection</th>\n",
       "      <th>packageID</th>\n",
       "    </tr>\n",
       "  </thead>\n",
       "  <tbody>\n",
       "    <tr>\n",
       "      <th>0</th>\n",
       "      <td>No</td>\n",
       "      <td>0</td>\n",
       "      <td>Yes</td>\n",
       "      <td>No</td>\n",
       "      <td>2</td>\n",
       "      <td>No</td>\n",
       "      <td>NaN</td>\n",
       "      <td>Clothing</td>\n",
       "      <td>No</td>\n",
       "      <td>Yes</td>\n",
       "      <td>...</td>\n",
       "      <td>No</td>\n",
       "      <td>No</td>\n",
       "      <td>Antwerp</td>\n",
       "      <td>China</td>\n",
       "      <td>Yes</td>\n",
       "      <td>Electronic check</td>\n",
       "      <td>29.85</td>\n",
       "      <td>29.85</td>\n",
       "      <td>No</td>\n",
       "      <td>7590-VHVEG</td>\n",
       "    </tr>\n",
       "    <tr>\n",
       "      <th>1</th>\n",
       "      <td>Yes</td>\n",
       "      <td>0</td>\n",
       "      <td>No</td>\n",
       "      <td>No</td>\n",
       "      <td>35</td>\n",
       "      <td>Yes</td>\n",
       "      <td>No</td>\n",
       "      <td>Clothing</td>\n",
       "      <td>Yes</td>\n",
       "      <td>No</td>\n",
       "      <td>...</td>\n",
       "      <td>No</td>\n",
       "      <td>No</td>\n",
       "      <td>Antwerp</td>\n",
       "      <td>US</td>\n",
       "      <td>No</td>\n",
       "      <td>Mailed check</td>\n",
       "      <td>56.95</td>\n",
       "      <td>1889.50</td>\n",
       "      <td>No</td>\n",
       "      <td>5575-GNVDE</td>\n",
       "    </tr>\n",
       "    <tr>\n",
       "      <th>2</th>\n",
       "      <td>Yes</td>\n",
       "      <td>0</td>\n",
       "      <td>No</td>\n",
       "      <td>No</td>\n",
       "      <td>3</td>\n",
       "      <td>Yes</td>\n",
       "      <td>No</td>\n",
       "      <td>Clothing</td>\n",
       "      <td>Yes</td>\n",
       "      <td>Yes</td>\n",
       "      <td>...</td>\n",
       "      <td>No</td>\n",
       "      <td>No</td>\n",
       "      <td>Antwerp</td>\n",
       "      <td>China</td>\n",
       "      <td>Yes</td>\n",
       "      <td>Mailed check</td>\n",
       "      <td>53.85</td>\n",
       "      <td>108.15</td>\n",
       "      <td>Yes</td>\n",
       "      <td>3668-QPYBK</td>\n",
       "    </tr>\n",
       "    <tr>\n",
       "      <th>3</th>\n",
       "      <td>Yes</td>\n",
       "      <td>0</td>\n",
       "      <td>No</td>\n",
       "      <td>No</td>\n",
       "      <td>46</td>\n",
       "      <td>No</td>\n",
       "      <td>NaN</td>\n",
       "      <td>Clothing</td>\n",
       "      <td>Yes</td>\n",
       "      <td>No</td>\n",
       "      <td>...</td>\n",
       "      <td>Yes</td>\n",
       "      <td>No</td>\n",
       "      <td>Antwerp</td>\n",
       "      <td>US</td>\n",
       "      <td>No</td>\n",
       "      <td>Bank transfer (automatic)</td>\n",
       "      <td>42.30</td>\n",
       "      <td>1840.75</td>\n",
       "      <td>No</td>\n",
       "      <td>7795-CFOCW</td>\n",
       "    </tr>\n",
       "    <tr>\n",
       "      <th>4</th>\n",
       "      <td>No</td>\n",
       "      <td>0</td>\n",
       "      <td>No</td>\n",
       "      <td>No</td>\n",
       "      <td>3</td>\n",
       "      <td>Yes</td>\n",
       "      <td>No</td>\n",
       "      <td>Electronics</td>\n",
       "      <td>No</td>\n",
       "      <td>No</td>\n",
       "      <td>...</td>\n",
       "      <td>No</td>\n",
       "      <td>No</td>\n",
       "      <td>Antwerp</td>\n",
       "      <td>China</td>\n",
       "      <td>Yes</td>\n",
       "      <td>Electronic check</td>\n",
       "      <td>70.70</td>\n",
       "      <td>151.65</td>\n",
       "      <td>Yes</td>\n",
       "      <td>9237-HQITU</td>\n",
       "    </tr>\n",
       "  </tbody>\n",
       "</table>\n",
       "<p>5 rows × 21 columns</p>\n",
       "</div>"
      ],
      "text/plain": [
       "  CertificateOfOrigin  EUCitizen Perishable Fragile  Volume PreDeclared  \\\n",
       "0                  No          0        Yes      No       2          No   \n",
       "1                 Yes          0         No      No      35         Yes   \n",
       "2                 Yes          0         No      No       3         Yes   \n",
       "3                 Yes          0         No      No      46          No   \n",
       "4                  No          0         No      No       3         Yes   \n",
       "\n",
       "  MultiplePackage     Category OnlineDeclaration ExporterValidation  ...  \\\n",
       "0             NaN     Clothing                No                Yes  ...   \n",
       "1              No     Clothing               Yes                 No  ...   \n",
       "2              No     Clothing               Yes                Yes  ...   \n",
       "3             NaN     Clothing               Yes                 No  ...   \n",
       "4              No  Electronics                No                 No  ...   \n",
       "\n",
       "  LithiumBatteries ExpressDelivery EntryPoint Origin PaperlessBilling  \\\n",
       "0               No              No    Antwerp  China              Yes   \n",
       "1               No              No    Antwerp     US               No   \n",
       "2               No              No    Antwerp  China              Yes   \n",
       "3              Yes              No    Antwerp     US               No   \n",
       "4               No              No    Antwerp  China              Yes   \n",
       "\n",
       "               PaymentMethod Weight    Price  Inspection   packageID  \n",
       "0           Electronic check  29.85    29.85          No  7590-VHVEG  \n",
       "1               Mailed check  56.95  1889.50          No  5575-GNVDE  \n",
       "2               Mailed check  53.85   108.15         Yes  3668-QPYBK  \n",
       "3  Bank transfer (automatic)  42.30  1840.75          No  7795-CFOCW  \n",
       "4           Electronic check  70.70   151.65         Yes  9237-HQITU  \n",
       "\n",
       "[5 rows x 21 columns]"
      ]
     },
     "execution_count": 4,
     "metadata": {},
     "output_type": "execute_result"
    }
   ],
   "source": [
    "df = pd.read_csv('data/CUSTOMS.csv')\n",
    "print(f\"Number of observations: {df.shape[0]}\")\n",
    "print(f\"Number of variables: {df.shape[1]}\")\n",
    "df.head()"
   ]
  },
  {
   "cell_type": "code",
   "execution_count": 5,
   "id": "33f3f1a7-713c-4c7a-a96a-a8df2547c7c7",
   "metadata": {},
   "outputs": [],
   "source": [
    "target = 'Inspection'\n",
    "X = df.drop([target, \"packageID\"], axis=1)\n",
    "y = df[target]"
   ]
  },
  {
   "cell_type": "markdown",
   "id": "055c7739-cf90-48ce-8118-260873d26094",
   "metadata": {},
   "source": [
    "### 2.1 `scikit-learn` Model"
   ]
  },
  {
   "cell_type": "code",
   "execution_count": 6,
   "id": "dc5b9634-28ca-4e5b-a5e1-97cd967ef866",
   "metadata": {
    "scrolled": true
   },
   "outputs": [],
   "source": [
    "binary_cols = ['CertificateOfOrigin', 'Perishable', 'Fragile',\n",
    "               'PreDeclared', 'PaperlessBilling']\n",
    "ohe_cols = ['MultiplePackage', 'OnlineDeclaration',\n",
    "            'ExporterValidation', 'SecuredDelivery', 'LithiumBatteries',\n",
    "            'ExpressDelivery', 'Category', 'EntryPoint', 'Origin', 'PaymentMethod']\n",
    "binary_mapping = [['No', 'Yes']]\n",
    "\n",
    "# Define the preprocessing steps\n",
    "preprocessor = ColumnTransformer(\n",
    "    transformers=[\n",
    "        ('binary', OrdinalEncoder(categories=[['No', 'Yes']]*len(binary_cols)), binary_cols),\n",
    "        ('ohe', OneHotEncoder(dtype='int64', handle_unknown='ignore', sparse_output=False), ohe_cols),\n",
    "        ('impute', SimpleImputer(), ['Price'])\n",
    "    ],\n",
    "    remainder='passthrough',  # Keep the remaining columns as they are\n",
    ")\n",
    "\n",
    "# Define the pipeline\n",
    "pipeline = Pipeline(steps=[\n",
    "    ('preprocessor', preprocessor),\n",
    "    ('classifier', RandomForestClassifier(n_estimators=50, random_state=12345))\n",
    "])"
   ]
  },
  {
   "cell_type": "code",
   "execution_count": 7,
   "id": "1015ebd3-bbb0-413b-939a-e2fe6f9387bf",
   "metadata": {},
   "outputs": [
    {
     "data": {
      "text/html": [
       "<style>#sk-container-id-1 {color: black;}#sk-container-id-1 pre{padding: 0;}#sk-container-id-1 div.sk-toggleable {background-color: white;}#sk-container-id-1 label.sk-toggleable__label {cursor: pointer;display: block;width: 100%;margin-bottom: 0;padding: 0.3em;box-sizing: border-box;text-align: center;}#sk-container-id-1 label.sk-toggleable__label-arrow:before {content: \"▸\";float: left;margin-right: 0.25em;color: #696969;}#sk-container-id-1 label.sk-toggleable__label-arrow:hover:before {color: black;}#sk-container-id-1 div.sk-estimator:hover label.sk-toggleable__label-arrow:before {color: black;}#sk-container-id-1 div.sk-toggleable__content {max-height: 0;max-width: 0;overflow: hidden;text-align: left;background-color: #f0f8ff;}#sk-container-id-1 div.sk-toggleable__content pre {margin: 0.2em;color: black;border-radius: 0.25em;background-color: #f0f8ff;}#sk-container-id-1 input.sk-toggleable__control:checked~div.sk-toggleable__content {max-height: 200px;max-width: 100%;overflow: auto;}#sk-container-id-1 input.sk-toggleable__control:checked~label.sk-toggleable__label-arrow:before {content: \"▾\";}#sk-container-id-1 div.sk-estimator input.sk-toggleable__control:checked~label.sk-toggleable__label {background-color: #d4ebff;}#sk-container-id-1 div.sk-label input.sk-toggleable__control:checked~label.sk-toggleable__label {background-color: #d4ebff;}#sk-container-id-1 input.sk-hidden--visually {border: 0;clip: rect(1px 1px 1px 1px);clip: rect(1px, 1px, 1px, 1px);height: 1px;margin: -1px;overflow: hidden;padding: 0;position: absolute;width: 1px;}#sk-container-id-1 div.sk-estimator {font-family: monospace;background-color: #f0f8ff;border: 1px dotted black;border-radius: 0.25em;box-sizing: border-box;margin-bottom: 0.5em;}#sk-container-id-1 div.sk-estimator:hover {background-color: #d4ebff;}#sk-container-id-1 div.sk-parallel-item::after {content: \"\";width: 100%;border-bottom: 1px solid gray;flex-grow: 1;}#sk-container-id-1 div.sk-label:hover label.sk-toggleable__label {background-color: #d4ebff;}#sk-container-id-1 div.sk-serial::before {content: \"\";position: absolute;border-left: 1px solid gray;box-sizing: border-box;top: 0;bottom: 0;left: 50%;z-index: 0;}#sk-container-id-1 div.sk-serial {display: flex;flex-direction: column;align-items: center;background-color: white;padding-right: 0.2em;padding-left: 0.2em;position: relative;}#sk-container-id-1 div.sk-item {position: relative;z-index: 1;}#sk-container-id-1 div.sk-parallel {display: flex;align-items: stretch;justify-content: center;background-color: white;position: relative;}#sk-container-id-1 div.sk-item::before, #sk-container-id-1 div.sk-parallel-item::before {content: \"\";position: absolute;border-left: 1px solid gray;box-sizing: border-box;top: 0;bottom: 0;left: 50%;z-index: -1;}#sk-container-id-1 div.sk-parallel-item {display: flex;flex-direction: column;z-index: 1;position: relative;background-color: white;}#sk-container-id-1 div.sk-parallel-item:first-child::after {align-self: flex-end;width: 50%;}#sk-container-id-1 div.sk-parallel-item:last-child::after {align-self: flex-start;width: 50%;}#sk-container-id-1 div.sk-parallel-item:only-child::after {width: 0;}#sk-container-id-1 div.sk-dashed-wrapped {border: 1px dashed gray;margin: 0 0.4em 0.5em 0.4em;box-sizing: border-box;padding-bottom: 0.4em;background-color: white;}#sk-container-id-1 div.sk-label label {font-family: monospace;font-weight: bold;display: inline-block;line-height: 1.2em;}#sk-container-id-1 div.sk-label-container {text-align: center;}#sk-container-id-1 div.sk-container {/* jupyter's `normalize.less` sets `[hidden] { display: none; }` but bootstrap.min.css set `[hidden] { display: none !important; }` so we also need the `!important` here to be able to override the default hidden behavior on the sphinx rendered scikit-learn.org. See: https://github.com/scikit-learn/scikit-learn/issues/21755 */display: inline-block !important;position: relative;}#sk-container-id-1 div.sk-text-repr-fallback {display: none;}</style><div id=\"sk-container-id-1\" class=\"sk-top-container\"><div class=\"sk-text-repr-fallback\"><pre>Pipeline(steps=[(&#x27;preprocessor&#x27;,\n",
       "                 ColumnTransformer(remainder=&#x27;passthrough&#x27;,\n",
       "                                   transformers=[(&#x27;binary&#x27;,\n",
       "                                                  OrdinalEncoder(categories=[[&#x27;No&#x27;,\n",
       "                                                                              &#x27;Yes&#x27;],\n",
       "                                                                             [&#x27;No&#x27;,\n",
       "                                                                              &#x27;Yes&#x27;],\n",
       "                                                                             [&#x27;No&#x27;,\n",
       "                                                                              &#x27;Yes&#x27;],\n",
       "                                                                             [&#x27;No&#x27;,\n",
       "                                                                              &#x27;Yes&#x27;],\n",
       "                                                                             [&#x27;No&#x27;,\n",
       "                                                                              &#x27;Yes&#x27;]]),\n",
       "                                                  [&#x27;CertificateOfOrigin&#x27;,\n",
       "                                                   &#x27;Perishable&#x27;, &#x27;Fragile&#x27;,\n",
       "                                                   &#x27;PreDeclared&#x27;,\n",
       "                                                   &#x27;PaperlessBilling&#x27;]),\n",
       "                                                 (&#x27;ohe&#x27;,\n",
       "                                                  OneHotEncoder(dtype=&#x27;int64&#x27;,\n",
       "                                                                handle_unknown=&#x27;ignore&#x27;,\n",
       "                                                                sparse_output=False),\n",
       "                                                  [&#x27;MultiplePackage&#x27;,\n",
       "                                                   &#x27;OnlineDeclaration&#x27;,\n",
       "                                                   &#x27;ExporterValidation&#x27;,\n",
       "                                                   &#x27;SecuredDelivery&#x27;,\n",
       "                                                   &#x27;LithiumBatteries&#x27;,\n",
       "                                                   &#x27;ExpressDelivery&#x27;,\n",
       "                                                   &#x27;Category&#x27;, &#x27;EntryPoint&#x27;,\n",
       "                                                   &#x27;Origin&#x27;, &#x27;PaymentMethod&#x27;]),\n",
       "                                                 (&#x27;impute&#x27;, SimpleImputer(),\n",
       "                                                  [&#x27;Price&#x27;])])),\n",
       "                (&#x27;classifier&#x27;,\n",
       "                 RandomForestClassifier(n_estimators=50, random_state=12345))])</pre><b>In a Jupyter environment, please rerun this cell to show the HTML representation or trust the notebook. <br />On GitHub, the HTML representation is unable to render, please try loading this page with nbviewer.org.</b></div><div class=\"sk-container\" hidden><div class=\"sk-item sk-dashed-wrapped\"><div class=\"sk-label-container\"><div class=\"sk-label sk-toggleable\"><input class=\"sk-toggleable__control sk-hidden--visually\" id=\"sk-estimator-id-1\" type=\"checkbox\" ><label for=\"sk-estimator-id-1\" class=\"sk-toggleable__label sk-toggleable__label-arrow\">Pipeline</label><div class=\"sk-toggleable__content\"><pre>Pipeline(steps=[(&#x27;preprocessor&#x27;,\n",
       "                 ColumnTransformer(remainder=&#x27;passthrough&#x27;,\n",
       "                                   transformers=[(&#x27;binary&#x27;,\n",
       "                                                  OrdinalEncoder(categories=[[&#x27;No&#x27;,\n",
       "                                                                              &#x27;Yes&#x27;],\n",
       "                                                                             [&#x27;No&#x27;,\n",
       "                                                                              &#x27;Yes&#x27;],\n",
       "                                                                             [&#x27;No&#x27;,\n",
       "                                                                              &#x27;Yes&#x27;],\n",
       "                                                                             [&#x27;No&#x27;,\n",
       "                                                                              &#x27;Yes&#x27;],\n",
       "                                                                             [&#x27;No&#x27;,\n",
       "                                                                              &#x27;Yes&#x27;]]),\n",
       "                                                  [&#x27;CertificateOfOrigin&#x27;,\n",
       "                                                   &#x27;Perishable&#x27;, &#x27;Fragile&#x27;,\n",
       "                                                   &#x27;PreDeclared&#x27;,\n",
       "                                                   &#x27;PaperlessBilling&#x27;]),\n",
       "                                                 (&#x27;ohe&#x27;,\n",
       "                                                  OneHotEncoder(dtype=&#x27;int64&#x27;,\n",
       "                                                                handle_unknown=&#x27;ignore&#x27;,\n",
       "                                                                sparse_output=False),\n",
       "                                                  [&#x27;MultiplePackage&#x27;,\n",
       "                                                   &#x27;OnlineDeclaration&#x27;,\n",
       "                                                   &#x27;ExporterValidation&#x27;,\n",
       "                                                   &#x27;SecuredDelivery&#x27;,\n",
       "                                                   &#x27;LithiumBatteries&#x27;,\n",
       "                                                   &#x27;ExpressDelivery&#x27;,\n",
       "                                                   &#x27;Category&#x27;, &#x27;EntryPoint&#x27;,\n",
       "                                                   &#x27;Origin&#x27;, &#x27;PaymentMethod&#x27;]),\n",
       "                                                 (&#x27;impute&#x27;, SimpleImputer(),\n",
       "                                                  [&#x27;Price&#x27;])])),\n",
       "                (&#x27;classifier&#x27;,\n",
       "                 RandomForestClassifier(n_estimators=50, random_state=12345))])</pre></div></div></div><div class=\"sk-serial\"><div class=\"sk-item sk-dashed-wrapped\"><div class=\"sk-label-container\"><div class=\"sk-label sk-toggleable\"><input class=\"sk-toggleable__control sk-hidden--visually\" id=\"sk-estimator-id-2\" type=\"checkbox\" ><label for=\"sk-estimator-id-2\" class=\"sk-toggleable__label sk-toggleable__label-arrow\">preprocessor: ColumnTransformer</label><div class=\"sk-toggleable__content\"><pre>ColumnTransformer(remainder=&#x27;passthrough&#x27;,\n",
       "                  transformers=[(&#x27;binary&#x27;,\n",
       "                                 OrdinalEncoder(categories=[[&#x27;No&#x27;, &#x27;Yes&#x27;],\n",
       "                                                            [&#x27;No&#x27;, &#x27;Yes&#x27;],\n",
       "                                                            [&#x27;No&#x27;, &#x27;Yes&#x27;],\n",
       "                                                            [&#x27;No&#x27;, &#x27;Yes&#x27;],\n",
       "                                                            [&#x27;No&#x27;, &#x27;Yes&#x27;]]),\n",
       "                                 [&#x27;CertificateOfOrigin&#x27;, &#x27;Perishable&#x27;,\n",
       "                                  &#x27;Fragile&#x27;, &#x27;PreDeclared&#x27;,\n",
       "                                  &#x27;PaperlessBilling&#x27;]),\n",
       "                                (&#x27;ohe&#x27;,\n",
       "                                 OneHotEncoder(dtype=&#x27;int64&#x27;,\n",
       "                                               handle_unknown=&#x27;ignore&#x27;,\n",
       "                                               sparse_output=False),\n",
       "                                 [&#x27;MultiplePackage&#x27;, &#x27;OnlineDeclaration&#x27;,\n",
       "                                  &#x27;ExporterValidation&#x27;, &#x27;SecuredDelivery&#x27;,\n",
       "                                  &#x27;LithiumBatteries&#x27;, &#x27;ExpressDelivery&#x27;,\n",
       "                                  &#x27;Category&#x27;, &#x27;EntryPoint&#x27;, &#x27;Origin&#x27;,\n",
       "                                  &#x27;PaymentMethod&#x27;]),\n",
       "                                (&#x27;impute&#x27;, SimpleImputer(), [&#x27;Price&#x27;])])</pre></div></div></div><div class=\"sk-parallel\"><div class=\"sk-parallel-item\"><div class=\"sk-item\"><div class=\"sk-label-container\"><div class=\"sk-label sk-toggleable\"><input class=\"sk-toggleable__control sk-hidden--visually\" id=\"sk-estimator-id-3\" type=\"checkbox\" ><label for=\"sk-estimator-id-3\" class=\"sk-toggleable__label sk-toggleable__label-arrow\">binary</label><div class=\"sk-toggleable__content\"><pre>[&#x27;CertificateOfOrigin&#x27;, &#x27;Perishable&#x27;, &#x27;Fragile&#x27;, &#x27;PreDeclared&#x27;, &#x27;PaperlessBilling&#x27;]</pre></div></div></div><div class=\"sk-serial\"><div class=\"sk-item\"><div class=\"sk-estimator sk-toggleable\"><input class=\"sk-toggleable__control sk-hidden--visually\" id=\"sk-estimator-id-4\" type=\"checkbox\" ><label for=\"sk-estimator-id-4\" class=\"sk-toggleable__label sk-toggleable__label-arrow\">OrdinalEncoder</label><div class=\"sk-toggleable__content\"><pre>OrdinalEncoder(categories=[[&#x27;No&#x27;, &#x27;Yes&#x27;], [&#x27;No&#x27;, &#x27;Yes&#x27;], [&#x27;No&#x27;, &#x27;Yes&#x27;],\n",
       "                           [&#x27;No&#x27;, &#x27;Yes&#x27;], [&#x27;No&#x27;, &#x27;Yes&#x27;]])</pre></div></div></div></div></div></div><div class=\"sk-parallel-item\"><div class=\"sk-item\"><div class=\"sk-label-container\"><div class=\"sk-label sk-toggleable\"><input class=\"sk-toggleable__control sk-hidden--visually\" id=\"sk-estimator-id-5\" type=\"checkbox\" ><label for=\"sk-estimator-id-5\" class=\"sk-toggleable__label sk-toggleable__label-arrow\">ohe</label><div class=\"sk-toggleable__content\"><pre>[&#x27;MultiplePackage&#x27;, &#x27;OnlineDeclaration&#x27;, &#x27;ExporterValidation&#x27;, &#x27;SecuredDelivery&#x27;, &#x27;LithiumBatteries&#x27;, &#x27;ExpressDelivery&#x27;, &#x27;Category&#x27;, &#x27;EntryPoint&#x27;, &#x27;Origin&#x27;, &#x27;PaymentMethod&#x27;]</pre></div></div></div><div class=\"sk-serial\"><div class=\"sk-item\"><div class=\"sk-estimator sk-toggleable\"><input class=\"sk-toggleable__control sk-hidden--visually\" id=\"sk-estimator-id-6\" type=\"checkbox\" ><label for=\"sk-estimator-id-6\" class=\"sk-toggleable__label sk-toggleable__label-arrow\">OneHotEncoder</label><div class=\"sk-toggleable__content\"><pre>OneHotEncoder(dtype=&#x27;int64&#x27;, handle_unknown=&#x27;ignore&#x27;, sparse_output=False)</pre></div></div></div></div></div></div><div class=\"sk-parallel-item\"><div class=\"sk-item\"><div class=\"sk-label-container\"><div class=\"sk-label sk-toggleable\"><input class=\"sk-toggleable__control sk-hidden--visually\" id=\"sk-estimator-id-7\" type=\"checkbox\" ><label for=\"sk-estimator-id-7\" class=\"sk-toggleable__label sk-toggleable__label-arrow\">impute</label><div class=\"sk-toggleable__content\"><pre>[&#x27;Price&#x27;]</pre></div></div></div><div class=\"sk-serial\"><div class=\"sk-item\"><div class=\"sk-estimator sk-toggleable\"><input class=\"sk-toggleable__control sk-hidden--visually\" id=\"sk-estimator-id-8\" type=\"checkbox\" ><label for=\"sk-estimator-id-8\" class=\"sk-toggleable__label sk-toggleable__label-arrow\">SimpleImputer</label><div class=\"sk-toggleable__content\"><pre>SimpleImputer()</pre></div></div></div></div></div></div><div class=\"sk-parallel-item\"><div class=\"sk-item\"><div class=\"sk-label-container\"><div class=\"sk-label sk-toggleable\"><input class=\"sk-toggleable__control sk-hidden--visually\" id=\"sk-estimator-id-9\" type=\"checkbox\" ><label for=\"sk-estimator-id-9\" class=\"sk-toggleable__label sk-toggleable__label-arrow\">remainder</label><div class=\"sk-toggleable__content\"><pre>[&#x27;EUCitizen&#x27;, &#x27;Volume&#x27;, &#x27;Weight&#x27;]</pre></div></div></div><div class=\"sk-serial\"><div class=\"sk-item\"><div class=\"sk-estimator sk-toggleable\"><input class=\"sk-toggleable__control sk-hidden--visually\" id=\"sk-estimator-id-10\" type=\"checkbox\" ><label for=\"sk-estimator-id-10\" class=\"sk-toggleable__label sk-toggleable__label-arrow\">passthrough</label><div class=\"sk-toggleable__content\"><pre>passthrough</pre></div></div></div></div></div></div></div></div><div class=\"sk-item\"><div class=\"sk-estimator sk-toggleable\"><input class=\"sk-toggleable__control sk-hidden--visually\" id=\"sk-estimator-id-11\" type=\"checkbox\" ><label for=\"sk-estimator-id-11\" class=\"sk-toggleable__label sk-toggleable__label-arrow\">RandomForestClassifier</label><div class=\"sk-toggleable__content\"><pre>RandomForestClassifier(n_estimators=50, random_state=12345)</pre></div></div></div></div></div></div></div>"
      ],
      "text/plain": [
       "Pipeline(steps=[('preprocessor',\n",
       "                 ColumnTransformer(remainder='passthrough',\n",
       "                                   transformers=[('binary',\n",
       "                                                  OrdinalEncoder(categories=[['No',\n",
       "                                                                              'Yes'],\n",
       "                                                                             ['No',\n",
       "                                                                              'Yes'],\n",
       "                                                                             ['No',\n",
       "                                                                              'Yes'],\n",
       "                                                                             ['No',\n",
       "                                                                              'Yes'],\n",
       "                                                                             ['No',\n",
       "                                                                              'Yes']]),\n",
       "                                                  ['CertificateOfOrigin',\n",
       "                                                   'Perishable', 'Fragile',\n",
       "                                                   'PreDeclared',\n",
       "                                                   'PaperlessBilling']),\n",
       "                                                 ('ohe',\n",
       "                                                  OneHotEncoder(dtype='int64',\n",
       "                                                                handle_unknown='ignore',\n",
       "                                                                sparse_output=False),\n",
       "                                                  ['MultiplePackage',\n",
       "                                                   'OnlineDeclaration',\n",
       "                                                   'ExporterValidation',\n",
       "                                                   'SecuredDelivery',\n",
       "                                                   'LithiumBatteries',\n",
       "                                                   'ExpressDelivery',\n",
       "                                                   'Category', 'EntryPoint',\n",
       "                                                   'Origin', 'PaymentMethod']),\n",
       "                                                 ('impute', SimpleImputer(),\n",
       "                                                  ['Price'])])),\n",
       "                ('classifier',\n",
       "                 RandomForestClassifier(n_estimators=50, random_state=12345))])"
      ]
     },
     "execution_count": 7,
     "metadata": {},
     "output_type": "execute_result"
    }
   ],
   "source": [
    "pipeline.fit(X, y)"
   ]
  },
  {
   "cell_type": "markdown",
   "id": "92a08cf7",
   "metadata": {},
   "source": [
    "### 2.2 `sasviya` Model"
   ]
  },
  {
   "cell_type": "code",
   "execution_count": 8,
   "id": "147cb38f-bf2b-4e09-a128-73183150220c",
   "metadata": {},
   "outputs": [
    {
     "data": {
      "text/plain": [
       "ForestClassifier(n_estimators=50, random_state=12345)"
      ]
     },
     "execution_count": 8,
     "metadata": {},
     "output_type": "execute_result"
    }
   ],
   "source": [
    "nominal_cols = ['CertificateOfOrigin', 'EUCitizen', \n",
    "                'Perishable', 'Fragile', 'PreDeclared',\n",
    "                'MultiplePackage', 'OnlineDeclaration',\n",
    "                'ExporterValidation', 'SecuredDelivery', 'LithiumBatteries',\n",
    "                'ExpressDelivery', 'PaperlessBilling', 'Category', 'EntryPoint',\n",
    "                'Origin', 'PaymentMethod']\n",
    "\n",
    "sasviya_rf = ForestClassifier(n_estimators=50, random_state=12345)\n",
    "sasviya_rf.fit(X, y, nominals=nominal_cols)"
   ]
  },
  {
   "cell_type": "markdown",
   "id": "99b55460-6d36-4312-92a6-c8e04a09d2d9",
   "metadata": {},
   "source": [
    "## 3. Integrating models into SAS Viya Platform"
   ]
  },
  {
   "cell_type": "markdown",
   "id": "051619fe-566d-4cb7-8dea-6e48ef6bc21d",
   "metadata": {},
   "source": [
    "Common steps for the 2 models:\n",
    "\n",
    "1. Obtaining the authorization code to the Viya instance of interest\n",
    "2. Establishing a connection to the Viya server\n",
    "3. Creating a project in SAS Model Manager from Workbench"
   ]
  },
  {
   "cell_type": "markdown",
   "id": "1271186b",
   "metadata": {},
   "source": [
    "#### Obtain the authorization code to the Viya instance of interest (`create.demo.sas` in our case)"
   ]
  },
  {
   "cell_type": "markdown",
   "id": "5c439742-65e9-47ef-b6cb-458f268eb0cd",
   "metadata": {},
   "source": [
    "[Follow this link to get the authorization code](https://create.demo.sas.com/SASLogon/oauth/authorize?client_id=sas.cli&response_type=code). In the case you are using a different Viya instance, you need to replace `\"https://create.demo.sas.com/\"` with your server URL for the `server` variable and change the previous URL to: `https://your-server-url.com/SASLogon/oauth/authorize?client_id=sas.cli&response_type=code`.\n",
    "\n",
    "Request a `.pem` file with the necessary permissions from your Viya Admin, and replace `\"your-pem-file-name\"` with the path to this `.pem` file for the `verification_file` variable (this step can be skipped by replacing everywhere `verify=verification_file` to `verify=False`):"
   ]
  },
  {
   "cell_type": "code",
   "execution_count": 9,
   "id": "fd17fd1f-ac67-47cb-881c-90e820eeb5b5",
   "metadata": {},
   "outputs": [
    {
     "name": "stderr",
     "output_type": "stream",
     "text": [
      "/usr/local/lib/python3.11/site-packages/urllib3/connectionpool.py:1103: InsecureRequestWarning: Unverified HTTPS request is being made to host 'create.demo.sas.com'. Adding certificate verification is strongly advised. See: https://urllib3.readthedocs.io/en/latest/advanced-usage.html#tls-warnings\n",
      "  warnings.warn(\n"
     ]
    }
   ],
   "source": [
    "# paste the authorization code here\n",
    "auth_code = \"your-auth-code\"\n",
    "\n",
    "server = \"https://create.demo.sas.com/\"\n",
    "\n",
    "# URL to obtain the access token\n",
    "url = f\"{server}/SASLogon/oauth/token\"\n",
    "\n",
    "# Payload and headers for the request\n",
    "auth_payload = f'grant_type=authorization_code&code={auth_code}'\n",
    "headers = {\n",
    "    'Accept': 'application/json',\n",
    "    'Content-Type': 'application/x-www-form-urlencoded',\n",
    "    'Authorization': 'Basic c2FzLmNsaTo='\n",
    "}\n",
    "# verification_file = \"your-pem-file-name\"\n",
    "\n",
    "# Send the POST request to obtain the access and the refresh token\n",
    "response = requests.request(\"POST\", url, headers=headers, data=auth_payload, verify=False)\n",
    "# response = requests.request(\"POST\", url, headers=headers, data=auth_payload, verify=verification_file)\n",
    "response_json = json.loads(response.text)\n",
    "\n",
    "# Extract the access and the refresh tokens from the response\n",
    "access_token = response_json['access_token']\n",
    "refresh_token = response_json['refresh_token']\n",
    "\n",
    "# Save the refresh token to a .txt file:\n",
    "with open('refresh_token.txt', 'w') as file:\n",
    "    file.write(refresh_token)"
   ]
  },
  {
   "cell_type": "markdown",
   "id": "3e5787e8",
   "metadata": {},
   "source": [
    "#### Establishing a connection to the Viya server"
   ]
  },
  {
   "cell_type": "code",
   "execution_count": 10,
   "id": "dd4b4b4b-029c-44d3-96cc-c635b93bbd50",
   "metadata": {},
   "outputs": [
    {
     "data": {
      "text/plain": [
       "<sasctl.core.Session at 0x7f8c3ad16b90>"
      ]
     },
     "execution_count": 10,
     "metadata": {},
     "output_type": "execute_result"
    }
   ],
   "source": [
    "# Establish a connection to SAS Viya using the access token\n",
    "st = Session(server, token=access_token, verify_ssl=False)\n",
    "# os.environ['CAS_CLIENT_SSL_CA_LIST'] = verification_file\n",
    "st = Session(server, token=access_token)\n",
    "st"
   ]
  },
  {
   "cell_type": "markdown",
   "id": "9621370c-a591-4542-b423-829d762f48b4",
   "metadata": {},
   "source": [
    "The **access token** has a default life of 1 hour before it expires (`response_json['expires_in']`). The **refresh token** can be used to issue a new token when the current one expires. Its validity is 14 days (by looking at `response_json['refresh_expires_in']`):"
   ]
  },
  {
   "cell_type": "code",
   "execution_count": 9,
   "id": "87285085-c227-434e-8253-fe98b07c346d",
   "metadata": {},
   "outputs": [
    {
     "data": {
      "text/plain": [
       "(3599, 1209599)"
      ]
     },
     "execution_count": 9,
     "metadata": {},
     "output_type": "execute_result"
    }
   ],
   "source": [
    "response_json['expires_in'], response_json['refresh_expires_in']"
   ]
  },
  {
   "cell_type": "markdown",
   "id": "73454326-92b7-446e-85b1-13432870288c",
   "metadata": {},
   "source": [
    "A new access token can be obtained by means of the following procedure, without repeating all the previous steps:"
   ]
  },
  {
   "cell_type": "code",
   "execution_count": 7,
   "id": "ecaf9752-6526-418a-a4e0-17d54a4a7010",
   "metadata": {},
   "outputs": [
    {
     "name": "stderr",
     "output_type": "stream",
     "text": [
      "/usr/local/lib/python3.11/site-packages/urllib3/connectionpool.py:1103: InsecureRequestWarning: Unverified HTTPS request is being made to host 'create.demo.sas.com'. Adding certificate verification is strongly advised. See: https://urllib3.readthedocs.io/en/latest/advanced-usage.html#tls-warnings\n",
      "  warnings.warn(\n"
     ]
    },
    {
     "data": {
      "text/plain": [
       "<sasctl.core.Session at 0x7f30b873b410>"
      ]
     },
     "execution_count": 7,
     "metadata": {},
     "output_type": "execute_result"
    }
   ],
   "source": [
    "# get access token for viya env using refresh token.\n",
    "server = \"https://create.demo.sas.com/\"\n",
    "url = f\"{server}/SASLogon/oauth/token\"\n",
    "headers = {\n",
    "    'Accept': 'application/json',\n",
    "    'Content-Type': 'application/x-www-form-urlencoded',\n",
    "    'Authorization': 'Basic c2FzLmNsaTo='\n",
    "}\n",
    "\n",
    "with open('refresh_token.txt', 'r') as token:\n",
    "    refresh_token = token.read()\n",
    "\n",
    "refresh_payload = f'grant_type=refresh_token&refresh_token={refresh_token}'\n",
    "\n",
    "# response = requests.request(\"POST\", url, headers=headers, data=refresh_payload, verify=verification_file)\n",
    "response = requests.request(\"POST\", url, headers=headers, data=refresh_payload, verify=False)\n",
    "new_access_token = response.json()['access_token']\n",
    "\n",
    "# Establish a connection to SAS Viya using the new access token\n",
    "st = Session(server, token=new_access_token, verify_ssl=False)\n",
    "# os.environ['CAS_CLIENT_SSL_CA_LIST'] = verification_file\n",
    "st = Session(server, token=new_access_token)\n",
    "st"
   ]
  },
  {
   "cell_type": "markdown",
   "id": "55a5a90c-c69a-4ec6-ba0b-1747b7d90ba8",
   "metadata": {},
   "source": [
    "#### Creating a project in SAS Model Manager from Workbench"
   ]
  },
  {
   "cell_type": "code",
   "execution_count": 11,
   "id": "701d09c6-9bf7-43a6-ade1-340a215f13a7",
   "metadata": {},
   "outputs": [],
   "source": [
    "# Update the project_name and repository_name values to match your preferences\n",
    "project_name = \"Workbench Hands-On Session\"\n",
    "repository_name = \"Public\"\n",
    "\n",
    "repository = mr.get_repository(repository_name)\n",
    "\n",
    "try:\n",
    "    project = mr.create_project(project_name, repository)\n",
    "except:\n",
    "    project = mr.get_project(project_name)\n",
    "\n",
    "# Save the project id to a .txt file:\n",
    "with open('project_id.txt', 'w') as file:\n",
    "    file.write(project.id)"
   ]
  },
  {
   "cell_type": "markdown",
   "id": "51b893c0",
   "metadata": {},
   "source": [
    "### 3.1 `sasviya` Model"
   ]
  },
  {
   "cell_type": "markdown",
   "id": "acd12e9e",
   "metadata": {},
   "source": [
    "The steps to follow are:\n",
    "\n",
    "1. Obtaining the authorization code to the Viya instance of interest ✅\n",
    "2. Establishing a connection to the Viya server ✅\n",
    "3. Creating a project in SAS Model Manager from Workbench ✅\n",
    "4. Specifying model parameters and pushing the model into SAS Model Manager"
   ]
  },
  {
   "cell_type": "markdown",
   "id": "e2ba191d",
   "metadata": {},
   "source": [
    "#### Specifying model parameters and pushing the model into SAS Model Manager"
   ]
  },
  {
   "cell_type": "code",
   "execution_count": 12,
   "id": "33217753-bbc6-4c72-9648-3ef0782898d5",
   "metadata": {},
   "outputs": [],
   "source": [
    "model_params = {\n",
    "    \"name\": \"sasviya_randomForest\",\n",
    "    \"projectId\": project.id,\n",
    "    \"type\": \"ASTORE\",\n",
    "}\n",
    "\n",
    "astore = mr.post(\n",
    "    \"/models\",\n",
    "    files={\"files\": (\"model_export.astore\", sasviya_rf.export())},\n",
    "    data=model_params,\n",
    ")"
   ]
  },
  {
   "cell_type": "markdown",
   "id": "c9986970",
   "metadata": {},
   "source": [
    "### 3.2 `scikit-learn` Model"
   ]
  },
  {
   "cell_type": "markdown",
   "id": "a2695ab3",
   "metadata": {},
   "source": [
    "The steps to follow are:\n",
    "\n",
    "1. Obtaining the authorization code to the Viya instance of interest ✅\n",
    "2. Establishing a connection to the Viya server ✅\n",
    "3. Creating a project in SAS Model Manager from Workbench ✅\n",
    "4. Saving the pipeline to a pickle file and information about the model to JSON files\n",
    "5. Importing the JSON files into the project\n",
    "6. Creating the scoring code and adding both the pickle file and the scoring code to the model in SAS Model Manager"
   ]
  },
  {
   "cell_type": "markdown",
   "id": "958847f6",
   "metadata": {},
   "source": [
    "#### Saving the pipeline to a pickle file and information about the model to JSON files"
   ]
  },
  {
   "cell_type": "code",
   "execution_count": 13,
   "id": "70b424f5-aaac-4946-8c6f-aeb9895bf1dd",
   "metadata": {},
   "outputs": [
    {
     "name": "stdout",
     "output_type": "stream",
     "text": [
      "inputVar.json was successfully written and saved to sklearn_mm_assets/inputVar.json\n",
      "outputVar.json was successfully written and saved to sklearn_mm_assets/outputVar.json\n",
      "ModelProperties.json was successfully written and saved to sklearn_mm_assets/ModelProperties.json\n"
     ]
    }
   ],
   "source": [
    "# Define the model name\n",
    "model_name = \"sklearn_randomForest\"\n",
    "\n",
    "# Create the 'sklearn_mm_assets' folder in the current working directory (where the Jupyter Notebook is located)\n",
    "current_directory = os.getcwd()\n",
    "new_folder_name = 'sklearn_mm_assets'\n",
    "new_folder_path = os.path.join(current_directory, new_folder_name)\n",
    "os.makedirs(new_folder_path, exist_ok=True)\n",
    "\n",
    "# Save the trained pipeline as a pickle file in the new folder\n",
    "with open('sklearn_mm_assets/sklearnPipeline.pkl', 'wb') as file:\n",
    "    pickle.dump(pipeline, file)\n",
    "\n",
    "target_df =pd.DataFrame(data=[[0.8,0.2,\"No\"]],columns=['P_InspectionNo','P_InspectionYes','I_Inspection'])\n",
    "\n",
    "pzmm.JSONFiles.write_var_json(X, is_input=True, json_path=\"sklearn_mm_assets/\")\n",
    "pzmm.JSONFiles.write_var_json(target_df, is_input=False, json_path=\"sklearn_mm_assets/\")\n",
    "pzmm.JSONFiles.write_model_properties_json(model_name=model_name,\n",
    "                            model_desc=\"scikit-learn Random Forest Classification model\",\n",
    "                            target_variable=\"Inspection\",\n",
    "                            model_algorithm=\"sklearn.ensemble.RandomForestClassifier\",\n",
    "                            target_values=[\"No\",\"Yes\"],\n",
    "                            json_path=\"sklearn_mm_assets/\",\n",
    "                            modeler='Mattia')"
   ]
  },
  {
   "cell_type": "markdown",
   "id": "de887caf",
   "metadata": {},
   "source": [
    "#### Importing the JSON files into the project"
   ]
  },
  {
   "cell_type": "code",
   "execution_count": 14,
   "id": "e4aa1920-48fa-4775-a707-36b98793b838",
   "metadata": {},
   "outputs": [
    {
     "name": "stdout",
     "output_type": "stream",
     "text": [
      "All model files were zipped to sklearn_mm_assets.\n"
     ]
    }
   ],
   "source": [
    "warnings.filterwarnings(\"ignore\", message=\"The following arguments are required for the automatic generation of score code\")\n",
    "warnings.filterwarnings(\"ignore\", message=\"This model's properties are different from the project's.\")\n",
    "\n",
    "import_model = pzmm.ImportModel.import_model(\n",
    "    overwrite_model=True,\n",
    "    model_files=\"sklearn_mm_assets/\",\n",
    "    model_prefix=model_name,\n",
    "    project=project.id\n",
    ")"
   ]
  },
  {
   "attachments": {},
   "cell_type": "markdown",
   "id": "366b7928-ce69-4ea1-b8eb-abc7bec1ff15",
   "metadata": {},
   "source": [
    "#### Creating the scoring code and adding both the pickle file and the scoring code to the model in SAS Model Manager"
   ]
  },
  {
   "cell_type": "code",
   "execution_count": 15,
   "id": "dc8d495b-1553-4cde-8770-c8f5988370a5",
   "metadata": {},
   "outputs": [
    {
     "name": "stdout",
     "output_type": "stream",
     "text": [
      "Overwriting ./sklearn_mm_assets/sklearnPipelineScore.py\n"
     ]
    }
   ],
   "source": [
    "%%writefile ./sklearn_mm_assets/sklearnPipelineScore.py\n",
    "import settings\n",
    "import pickle\n",
    "import pandas as pd\n",
    "\n",
    "with open(settings.pickle_path+'/sklearnPipeline.pkl', \"rb\") as f:\n",
    "    pipeline = pickle.load(f)\n",
    "\n",
    "def score_method(CertificateOfOrigin, EUCitizen, Perishable, Fragile, Volume,\n",
    "                 PreDeclared, MultiplePackage, Category, OnlineDeclaration,\n",
    "                 ExporterValidation, SecuredDelivery, LithiumBatteries,\n",
    "                 ExpressDelivery, EntryPoint, Origin, PaperlessBilling,\n",
    "                 PaymentMethod, Weight, Price):\n",
    "    \"Output: P_InspectionNo, P_InspectionYes, I_Inspection\"\n",
    "\n",
    "    df = pd.DataFrame([[CertificateOfOrigin, EUCitizen, Perishable, Fragile, Volume,\n",
    "                            PreDeclared, MultiplePackage, Category, OnlineDeclaration,\n",
    "                            ExporterValidation, SecuredDelivery, LithiumBatteries,\n",
    "                            ExpressDelivery, EntryPoint, Origin, PaperlessBilling,\n",
    "                            PaymentMethod, Weight, Price]],\n",
    "                            columns=['CertificateOfOrigin', 'EUCitizen', 'Perishable', 'Fragile', 'Volume',\n",
    "                                    'PreDeclared', 'MultiplePackage', 'Category', 'OnlineDeclaration',\n",
    "                                    'ExporterValidation', 'SecuredDelivery', 'LithiumBatteries',\n",
    "                                    'ExpressDelivery', 'EntryPoint', 'Origin', 'PaperlessBilling',\n",
    "                                    'PaymentMethod', 'Weight', 'Price'])\n",
    "    \n",
    "    y_pred_prob = pipeline.predict_proba(df)\n",
    "    y_pred = pipeline.predict(df)\n",
    "       \n",
    "    return float(y_pred_prob[0][0]), float(y_pred_prob[0][1]), str(y_pred[0])"
   ]
  },
  {
   "cell_type": "code",
   "execution_count": 16,
   "id": "b84742a8-3524-4056-918c-d1ecd74f29f4",
   "metadata": {},
   "outputs": [],
   "source": [
    "model = mr.get_model(model_name)\n",
    "pklFileName = 'sklearn_mm_assets/sklearnPipeline.pkl'\n",
    "\n",
    "scorefile = mr.add_model_content(\n",
    "    model,\n",
    "    open('sklearn_mm_assets/sklearnPipelineScore.py', 'rb'),\n",
    "    name='sklearnPipelineScore.py',\n",
    "    role='score'\n",
    ")\n",
    "\n",
    "python_pickle = mr.add_model_content(\n",
    "    model,\n",
    "    open(pklFileName, 'rb'),\n",
    "    name=pklFileName,\n",
    "    role='python pickle'\n",
    ")"
   ]
  }
 ],
 "metadata": {
  "kernelspec": {
   "display_name": "Python 3",
   "language": "python",
   "name": "python3"
  },
  "language_info": {
   "codemirror_mode": {
    "name": "ipython",
    "version": 3
   },
   "file_extension": ".py",
   "mimetype": "text/x-python",
   "name": "python",
   "nbconvert_exporter": "python",
   "pygments_lexer": "ipython3",
   "version": "3.11.9"
  }
 },
 "nbformat": 4,
 "nbformat_minor": 5
}
